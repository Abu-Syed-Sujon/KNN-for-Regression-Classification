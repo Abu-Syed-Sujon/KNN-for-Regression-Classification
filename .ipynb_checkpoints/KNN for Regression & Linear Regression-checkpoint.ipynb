{
 "cells": [
  {
   "cell_type": "code",
   "execution_count": 1,
   "id": "acb32c48-6da8-4e5f-b0a3-87e177c97b92",
   "metadata": {},
   "outputs": [],
   "source": [
    "import pandas as pd\n",
    "from sklearn.model_selection import train_test_split\n",
    "from sklearn.linear_model import LinearRegression\n",
    "from sklearn.neighbors import KNeighborsRegressor\n",
    "from sklearn.metrics import mean_squared_error, r2_score\n",
    "from sklearn.preprocessing import LabelEncoder"
   ]
  },
  {
   "cell_type": "code",
   "execution_count": 2,
   "id": "566ab4ba-331e-4574-bddb-ea6778c6bf7d",
   "metadata": {},
   "outputs": [],
   "source": [
    "#: Import dataset\n",
    "data = pd.read_csv('weight-height.csv')  # Replace with your actual dataset\n",
    "\n",
    "# Encode 'Gender' column (categorical to numerical)\n",
    "label_encoder = LabelEncoder()\n",
    "data['Gender'] = label_encoder.fit_transform(data['Gender'])  # Male: 1, Female: 0 (example)\n",
    "\n",
    "# Separate X (Gender, Height) and Y (y=Weight)\n",
    "X = data[['Gender', 'Height']]  # Now 'Gender' is numeric\n",
    "y = data['Weight']\n",
    "\n",
    "# Split the data into train (70%) and test (30%)\n",
    "X_train, X_test, y_train, y_test = train_test_split(X, y, test_size=0.3, random_state=42)\n",
    "# Separate X (Gender, Height) and Y (y=Weight)\n",
    "X = data[['Gender', 'Height']]  # Assuming Gender is encoded as 0/1 or similar\n",
    "y = data['Weight']\n",
    "\n",
    "# One-Hot Encoding 'Gender' column\n",
    "data = pd.get_dummies(data, columns=['Gender'], drop_first=True)\n",
    "\n",
    "# This will create a new column 'Gender_Male' where 1 means Male and 0 means Female\n",
    "\n",
    "# Split the data into train (70%) and test (30%)\n",
    "X_train, X_test, y_train, y_test = train_test_split(X, y, test_size=0.3, random_state=42)"
   ]
  },
  {
   "cell_type": "code",
   "execution_count": 3,
   "id": "309cb718-c2b8-4039-adfd-0c05a9b1d71f",
   "metadata": {},
   "outputs": [],
   "source": [
    "# Apply Linear Regression\n",
    "linear_reg = LinearRegression()\n",
    "linear_reg.fit(X_train, y_train)\n",
    "\n",
    "# Evaluate Linear Regression Model\n",
    "y_train_pred_lr = linear_reg.predict(X_train)\n",
    "y_test_pred_lr = linear_reg.predict(X_test)\n",
    "\n",
    "train_r2_lr = r2_score(y_train, y_train_pred_lr)\n",
    "test_r2_lr = r2_score(y_test, y_test_pred_lr)\n",
    "mse_test_lr = mean_squared_error(y_test, y_test_pred_lr)"
   ]
  },
  {
   "cell_type": "code",
   "execution_count": 4,
   "id": "d31f85bf-4179-4575-bb4d-6c85a463f6b7",
   "metadata": {},
   "outputs": [
    {
     "name": "stdout",
     "output_type": "stream",
     "text": [
      "Linear Regression - Training R2: 0.8973793060969246\n",
      "Linear Regression - Testing R2: 0.905911242442266\n",
      "Linear Regression - Test MSE: 96.83734437830608\n"
     ]
    }
   ],
   "source": [
    "print(\"Linear Regression - Training R2:\", train_r2_lr)\n",
    "print(\"Linear Regression - Testing R2:\", test_r2_lr)\n",
    "print(\"Linear Regression - Test MSE:\", mse_test_lr)"
   ]
  },
  {
   "cell_type": "code",
   "execution_count": 5,
   "id": "acdd9d5c-6c40-47b3-9001-15bef8b53ffc",
   "metadata": {},
   "outputs": [],
   "source": [
    "# Apply KNN Regressor\n",
    "knn_reg = KNeighborsRegressor(n_neighbors=5)\n",
    "knn_reg.fit(X_train, y_train)\n",
    "\n",
    "# Evaluate KNN Regressor Model\n",
    "y_train_pred_knn = knn_reg.predict(X_train)\n",
    "y_test_pred_knn = knn_reg.predict(X_test)\n",
    "\n",
    "train_r2_knn = r2_score(y_train, y_train_pred_knn)\n",
    "test_r2_knn = r2_score(y_test, y_test_pred_knn)\n",
    "mse_test_knn = mean_squared_error(y_test, y_test_pred_knn)"
   ]
  },
  {
   "cell_type": "code",
   "execution_count": 6,
   "id": "fc46b56e-9382-4ebd-9ee4-c7a3b3cd6994",
   "metadata": {},
   "outputs": [
    {
     "name": "stdout",
     "output_type": "stream",
     "text": [
      "KNN Regression - Training R2: 0.9172142723737918\n",
      "KNN Regression - Testing R2: 0.8821086423439015\n",
      "KNN Regression - Test MSE: 121.33528273624482\n"
     ]
    }
   ],
   "source": [
    "print(\"KNN Regression - Training R2:\", train_r2_knn)\n",
    "print(\"KNN Regression - Testing R2:\", test_r2_knn)\n",
    "print(\"KNN Regression - Test MSE:\", mse_test_knn)"
   ]
  },
  {
   "cell_type": "code",
   "execution_count": 7,
   "id": "0ed6b26c-29bb-4a07-8756-1f39ab670861",
   "metadata": {},
   "outputs": [
    {
     "name": "stdout",
     "output_type": "stream",
     "text": [
      "Comparison:\n",
      "\n",
      "Linear Regression R2 (Test): 0.905911242442266, KNN Regression R2 (Test): 0.8821086423439015\n",
      "Linear Regression MSE (Test): 96.83734437830608, KNN Regression MSE (Test): 121.33528273624482\n"
     ]
    }
   ],
   "source": [
    "# Compare Linear Regression and KNN\n",
    "print(\"Comparison:\\n\")\n",
    "print(f\"Linear Regression R2 (Test): {test_r2_lr}, KNN Regression R2 (Test): {test_r2_knn}\")\n",
    "print(f\"Linear Regression MSE (Test): {mse_test_lr}, KNN Regression MSE (Test): {mse_test_knn}\")"
   ]
  }
 ],
 "metadata": {
  "kernelspec": {
   "display_name": "Python 3 (ipykernel)",
   "language": "python",
   "name": "python3"
  },
  "language_info": {
   "codemirror_mode": {
    "name": "ipython",
    "version": 3
   },
   "file_extension": ".py",
   "mimetype": "text/x-python",
   "name": "python",
   "nbconvert_exporter": "python",
   "pygments_lexer": "ipython3",
   "version": "3.11.9"
  }
 },
 "nbformat": 4,
 "nbformat_minor": 5
}
