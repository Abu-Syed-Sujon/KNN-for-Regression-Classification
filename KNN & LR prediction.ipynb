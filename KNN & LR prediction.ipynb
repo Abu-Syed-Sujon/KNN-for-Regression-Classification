{
 "cells": [
  {
   "cell_type": "markdown",
   "id": "d02149e3-ed9e-4cf4-afc8-04307933575b",
   "metadata": {},
   "source": [
    "<h1> Step 1: Implementing KNN</h1>"
   ]
  },
  {
   "cell_type": "code",
   "execution_count": 3,
   "id": "3cbf1647-be6f-4e8d-bd82-44c5fd100e8f",
   "metadata": {},
   "outputs": [
    {
     "name": "stdout",
     "output_type": "stream",
     "text": [
      "Predicted Income (KNN): 60.333333333333336\n",
      "Neighbors Used in Prediction (KNN):\n",
      "   age  income  distance\n",
      "2   22    60.0         0\n",
      "3   22    61.0         0\n",
      "0   21    60.0         1\n"
     ]
    }
   ],
   "source": [
    "import numpy as np\n",
    "import pandas as pd\n",
    "import math\n",
    "\n",
    "# Dataset\n",
    "data = {'age': [21, 20, 22, 22, 23, 21, 25, 30, 31, 22],\n",
    "        'income': [60, 55, 60, 61, 65, 62, 65, 70, 68, None]}\n",
    "\n",
    "df = pd.DataFrame(data)\n",
    "\n",
    "# Input value\n",
    "X = 22\n",
    "\n",
    "# Function to calculate Euclidean distance\n",
    "def euclidean_distance(x1, x2):\n",
    "    return abs(x1 - x2)\n",
    "\n",
    "# Apply the KNN algorithm with k=3\n",
    "def knn_predict(df, X, k=3):\n",
    "    # Calculate the distance of all points from the input X\n",
    "    df['distance'] = df['age'].apply(lambda age: euclidean_distance(age, X))\n",
    "    \n",
    "    # Sort by distance and pick the k nearest neighbors\n",
    "    neighbors = df[df['income'].notna()].sort_values(by='distance').head(k)\n",
    "    \n",
    "    # Predict income as the mean of the nearest neighbors' income\n",
    "    predicted_income = neighbors['income'].mean()\n",
    "    \n",
    "    return predicted_income, neighbors\n",
    "\n",
    "predicted_income_knn, neighbors_knn = knn_predict(df, X)\n",
    "\n",
    "print(\"Predicted Income (KNN):\", predicted_income_knn)\n",
    "print(\"Neighbors Used in Prediction (KNN):\")\n",
    "print(neighbors_knn)\n"
   ]
  },
  {
   "cell_type": "markdown",
   "id": "a9da8d94-4dbc-46ae-b58f-5e61853632a0",
   "metadata": {},
   "source": [
    "<h1>Step 2: Implementing Linear Regression</h1>"
   ]
  },
  {
   "cell_type": "code",
   "execution_count": 6,
   "id": "d13124aa-bf72-4533-8d5c-8c8c81ccf00d",
   "metadata": {},
   "outputs": [
    {
     "name": "stdout",
     "output_type": "stream",
     "text": [
      "Predicted Income (Linear Regression): 60.97068965517241\n"
     ]
    }
   ],
   "source": [
    "from sklearn.linear_model import LinearRegression\n",
    "\n",
    "# Prepare data for Linear Regression (excluding rows with missing income values)\n",
    "df_clean = df.dropna()\n",
    "\n",
    "# Reshape the data\n",
    "X_train = np.array(df_clean['age']).reshape(-1, 1)\n",
    "y_train = np.array(df_clean['income'])\n",
    "\n",
    "# Fit the linear regression model\n",
    "model = LinearRegression()\n",
    "model.fit(X_train, y_train)\n",
    "\n",
    "# Predict the income for X = 22\n",
    "predicted_income_lr = model.predict(np.array([[X]]))[0]\n",
    "\n",
    "print(\"Predicted Income (Linear Regression):\", predicted_income_lr)\n"
   ]
  },
  {
   "cell_type": "markdown",
   "id": "914936b1-8c26-42a8-976e-d2a83d088a16",
   "metadata": {},
   "source": [
    "<h1>Step 3: Generating Excel Spreadsheet</h1>"
   ]
  },
  {
   "cell_type": "code",
   "execution_count": 9,
   "id": "2597a3e1-f250-4ff0-a17c-b11f93a30981",
   "metadata": {},
   "outputs": [
    {
     "data": {
      "text/plain": [
       "'income_prediction.xlsx'"
      ]
     },
     "execution_count": 9,
     "metadata": {},
     "output_type": "execute_result"
    }
   ],
   "source": [
    "# Adding the predicted incomes to the dataframe\n",
    "df.loc[df['age'] == X, 'predicted_income_knn'] = predicted_income_knn\n",
    "df.loc[df['age'] == X, 'predicted_income_lr'] = predicted_income_lr\n",
    "\n",
    "# Save to Excel\n",
    "output_filename = 'income_prediction.xlsx'\n",
    "df.to_excel(output_filename, index=False)\n",
    "\n",
    "output_filename\n"
   ]
  }
 ],
 "metadata": {
  "kernelspec": {
   "display_name": "Python 3 (ipykernel)",
   "language": "python",
   "name": "python3"
  },
  "language_info": {
   "codemirror_mode": {
    "name": "ipython",
    "version": 3
   },
   "file_extension": ".py",
   "mimetype": "text/x-python",
   "name": "python",
   "nbconvert_exporter": "python",
   "pygments_lexer": "ipython3",
   "version": "3.11.9"
  }
 },
 "nbformat": 4,
 "nbformat_minor": 5
}
