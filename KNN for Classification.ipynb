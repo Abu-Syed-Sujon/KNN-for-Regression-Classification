{
 "cells": [
  {
   "cell_type": "code",
   "execution_count": 1,
   "id": "93f767d1-cfae-4966-a3a9-38e1d00a4c0f",
   "metadata": {},
   "outputs": [],
   "source": [
    "import pandas as pd\n",
    "from sklearn.neighbors import KNeighborsClassifier\n",
    "from sklearn.metrics import accuracy_score\n",
    "from sklearn.preprocessing import LabelEncoder\n",
    "from sklearn.model_selection import train_test_split\n",
    "from sklearn.neighbors import KNeighborsRegressor\n",
    "from sklearn.preprocessing import LabelEncoder"
   ]
  },
  {
   "cell_type": "code",
   "execution_count": 2,
   "id": "f47ddfd0-3b97-4f59-8686-a450f186a30c",
   "metadata": {},
   "outputs": [],
   "source": [
    "#Import dataset\n",
    "data = pd.read_csv('weight-height.csv')  # Replace with your actual dataset\n",
    "\n",
    "# Encode 'Gender' column (categorical to numerical for classification task)\n",
    "label_encoder = LabelEncoder()\n",
    "data['Gender'] = label_encoder.fit_transform(data['Gender'])  # Male: 1, Female: 0\n",
    "\n",
    "# Separate X (Height, Weight) and Y (y=Gender)\n",
    "X = data[['Height', 'Weight']]  # Using 'Height' and 'Weight' as features\n",
    "y = data['Gender']  # Gender as the target, now numeric\n",
    "\n",
    "# Split the data into train (70%) and test (30%)\n",
    "X_train, X_test, y_train, y_test = train_test_split(X, y, test_size=0.3, random_state=42)"
   ]
  },
  {
   "cell_type": "code",
   "execution_count": 3,
   "id": "797d3d53-b756-4928-ad36-e71a8f7b9262",
   "metadata": {},
   "outputs": [],
   "source": [
    "# Apply KNN Classifier\n",
    "knn_clf = KNeighborsClassifier(n_neighbors=5)\n",
    "knn_clf.fit(X_train, y_train)\n",
    "\n",
    "# Evaluate the Model by Accuracy\n",
    "y_train_pred_knn_clf = knn_clf.predict(X_train)\n",
    "y_test_pred_knn_clf = knn_clf.predict(X_test)\n",
    "\n",
    "train_acc_knn_clf = accuracy_score(y_train, y_train_pred_knn_clf)\n",
    "test_acc_knn_clf = accuracy_score(y_test, y_test_pred_knn_clf)"
   ]
  },
  {
   "cell_type": "code",
   "execution_count": 4,
   "id": "d7720030-9413-4ef1-8544-463bd4988db4",
   "metadata": {},
   "outputs": [
    {
     "name": "stdout",
     "output_type": "stream",
     "text": [
      "KNN Classification - Training Accuracy: 0.9291917167668671\n",
      "KNN Classification - Testing Accuracy: 0.9131281651733542\n"
     ]
    }
   ],
   "source": [
    "print(\"KNN Classification - Training Accuracy:\", train_acc_knn_clf)\n",
    "print(\"KNN Classification - Testing Accuracy:\", test_acc_knn_clf)"
   ]
  }
 ],
 "metadata": {
  "kernelspec": {
   "display_name": "Python 3 (ipykernel)",
   "language": "python",
   "name": "python3"
  },
  "language_info": {
   "codemirror_mode": {
    "name": "ipython",
    "version": 3
   },
   "file_extension": ".py",
   "mimetype": "text/x-python",
   "name": "python",
   "nbconvert_exporter": "python",
   "pygments_lexer": "ipython3",
   "version": "3.11.9"
  }
 },
 "nbformat": 4,
 "nbformat_minor": 5
}
